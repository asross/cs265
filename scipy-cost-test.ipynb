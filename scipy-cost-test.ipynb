{
 "cells": [
  {
   "cell_type": "code",
   "execution_count": 2,
   "metadata": {
    "collapsed": true
   },
   "outputs": [],
   "source": [
    "import numpy as np\n",
    "from scipy import optimize\n",
    "import math\n",
    "import functools"
   ]
  },
  {
   "cell_type": "code",
   "execution_count": 3,
   "metadata": {
    "collapsed": false
   },
   "outputs": [
    {
     "name": "stdout",
     "output_type": "stream",
     "text": [
      "8.0\n"
     ]
    },
    {
     "data": {
      "text/plain": [
       "array([ 32.])"
      ]
     },
     "execution_count": 3,
     "metadata": {},
     "output_type": "execute_result"
    }
   ],
   "source": [
    "B = 2.0\n",
    "P = 2.0\n",
    "T = 2.0\n",
    "N = 1000.0\n",
    "M = 32.0\n",
    "E = 4.0\n",
    "L = math.ceil(math.log((N*(T-1)/(P*B))+1, T))\n",
    "print(L)\n",
    "\n",
    "m_init = [0]*int(L)\n",
    "\n",
    "def read_cost(B,P,T,N,E,m):\n",
    "    return np.sum([(B*P*T**(i+1) - (B*P*T**(i+1))/(N-B*P) * m[-1]/E)/N * .6185**(m[i]/B*P*T**(i+1)) for i in range(len(m))])\n",
    "    \n",
    "cost_m = functools.partial(read_cost, B,P,T,N,E)\n",
    "\n",
    "def constraint_gen(M, m):\n",
    "    return np.atleast_1d(M - np.sum(np.abs(m)))\n",
    "\n",
    "constraint_m = functools.partial(constraint_gen, M)\n",
    "\n",
    "constraint_m(m_init)"
   ]
  },
  {
   "cell_type": "code",
   "execution_count": 49,
   "metadata": {
    "collapsed": false
   },
   "outputs": [
    {
     "name": "stdout",
     "output_type": "stream",
     "text": [
      "Optimization terminated successfully.    (Exit mode 0)\n",
      "            Current function value: 3.70333339017e-05\n",
      "            Iterations: 31\n",
      "            Function evaluations: 325\n",
      "            Gradient evaluations: 31\n"
     ]
    }
   ],
   "source": [
    "result = optimize.fmin_slsqp(cost_m, np.array(m_init), ieqcons=[constraint_m, ])"
   ]
  },
  {
   "cell_type": "code",
   "execution_count": 42,
   "metadata": {
    "collapsed": false
   },
   "outputs": [
    {
     "name": "stdout",
     "output_type": "stream",
     "text": [
      "Iteration limit exceeded    (Exit mode 9)\n",
      "            Current function value: 0.000447111732841\n",
      "            Iterations: 101\n",
      "            Function evaluations: 1795\n",
      "            Gradient evaluations: 101\n"
     ]
    },
    {
     "name": "stderr",
     "output_type": "stream",
     "text": [
      "/Users/soph/anaconda/envs/py27/lib/python2.7/site-packages/ipykernel/__main__.py:13: RuntimeWarning: overflow encountered in double_scalars\n"
     ]
    }
   ],
   "source": [
    "result = optimize.fmin_slsqp(cost_m, result, ieqcons=[constraint_m, ])"
   ]
  },
  {
   "cell_type": "code",
   "execution_count": 52,
   "metadata": {
    "collapsed": false
   },
   "outputs": [
    {
     "data": {
      "text/plain": [
       "31.0"
      ]
     },
     "execution_count": 52,
     "metadata": {},
     "output_type": "execute_result"
    }
   ],
   "source": [
    "np.sum(np.round(result))"
   ]
  },
  {
   "cell_type": "code",
   "execution_count": 55,
   "metadata": {
    "collapsed": false
   },
   "outputs": [
    {
     "data": {
      "text/plain": [
       "array([ 9.,  4.,  7.,  3.,  1.,  0.,  0.,  7.])"
      ]
     },
     "execution_count": 55,
     "metadata": {},
     "output_type": "execute_result"
    }
   ],
   "source": [
    "np.round(result)"
   ]
  },
  {
   "cell_type": "code",
   "execution_count": 6,
   "metadata": {
    "collapsed": false
   },
   "outputs": [],
   "source": [
    "cons = {'type':'ineq','fun': constraint_m}\n",
    "minimizer_kwargs = {\"method\":\"COBYLA\",\"constraints\":cons}\n",
    "\n",
    "ret = optimize.basinhopping(cost_m,m_init,minimizer_kwargs=minimizer_kwargs)"
   ]
  },
  {
   "cell_type": "code",
   "execution_count": 7,
   "metadata": {
    "collapsed": false
   },
   "outputs": [
    {
     "data": {
      "text/plain": [
       "                        fun: 1.208529252133984e-08\n",
       " lowest_optimization_result:      fun: 1.208529252133984e-08\n",
       "   maxcv: 0.0\n",
       " message: 'Optimization terminated successfully.'\n",
       "    nfev: 727\n",
       "  status: 1\n",
       " success: True\n",
       "       x: array([ 14.66392297,   8.05492833,   4.38787929,   2.37420219,\n",
       "         1.27733519,   0.68369817,   0.36448896,   0.1935449 ])\n",
       "                    message: ['requested number of basinhopping iterations completed successfully']\n",
       "      minimization_failures: 1\n",
       "                       nfev: 64218\n",
       "                        nit: 100\n",
       "                          x: array([ 14.66392297,   8.05492833,   4.38787929,   2.37420219,\n",
       "         1.27733519,   0.68369817,   0.36448896,   0.1935449 ])"
      ]
     },
     "execution_count": 7,
     "metadata": {},
     "output_type": "execute_result"
    }
   ],
   "source": [
    "ret"
   ]
  },
  {
   "cell_type": "code",
   "execution_count": null,
   "metadata": {
    "collapsed": true
   },
   "outputs": [],
   "source": []
  }
 ],
 "metadata": {
  "anaconda-cloud": {},
  "kernelspec": {
   "display_name": "Python [conda env:py27]",
   "language": "python",
   "name": "conda-env-py27-py"
  },
  "language_info": {
   "codemirror_mode": {
    "name": "ipython",
    "version": 2
   },
   "file_extension": ".py",
   "mimetype": "text/x-python",
   "name": "python",
   "nbconvert_exporter": "python",
   "pygments_lexer": "ipython2",
   "version": "2.7.12"
  }
 },
 "nbformat": 4,
 "nbformat_minor": 0
}
