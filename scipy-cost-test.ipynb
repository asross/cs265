{
 "cells": [
  {
   "cell_type": "code",
   "execution_count": 6,
   "metadata": {
    "collapsed": true
   },
   "outputs": [],
   "source": [
    "import numpy as np\n",
    "from scipy import optimize\n",
    "import math\n",
    "import functools"
   ]
  },
  {
   "cell_type": "code",
   "execution_count": 7,
   "metadata": {
    "collapsed": false
   },
   "outputs": [
    {
     "name": "stdout",
     "output_type": "stream",
     "text": [
      "8.0\n"
     ]
    },
    {
     "data": {
      "text/plain": [
       "array([ 32.])"
      ]
     },
     "execution_count": 7,
     "metadata": {},
     "output_type": "execute_result"
    }
   ],
   "source": [
    "B = 2.0\n",
    "P = 2.0\n",
    "T = 2.0\n",
    "N = 1000.0\n",
    "M = 32.0\n",
    "E = 4.0\n",
    "L = math.ceil(math.log((N*(T-1)/(P*B))+1, T))\n",
    "print(L)\n",
    "\n",
    "m_init = [0]*int(L)\n",
    "\n",
    "def read_cost(B,P,T,N,E,m):\n",
    "    return np.sum([((B*P*T**(i) - (B*P*T**(i))/(N-B*P) * m[0]/E)/N) \\\n",
    "                   * np.sum([.6185**(m[j]/B*P*T**(j)) for j in range(1,i)]) for i in range(1,len(m))])\n",
    "    \n",
    "cost_m = functools.partial(read_cost, B,P,T,N,E)\n",
    "\n",
    "def constraint_gen(M, m):\n",
    "    return np.atleast_1d(M - np.sum(np.abs(m)))\n",
    "\n",
    "constraint_m = functools.partial(constraint_gen, M)\n",
    "\n",
    "constraint_m(m_init)"
   ]
  },
  {
   "cell_type": "code",
   "execution_count": 49,
   "metadata": {
    "collapsed": false
   },
   "outputs": [
    {
     "name": "stdout",
     "output_type": "stream",
     "text": [
      "Optimization terminated successfully.    (Exit mode 0)\n",
      "            Current function value: 3.70333339017e-05\n",
      "            Iterations: 31\n",
      "            Function evaluations: 325\n",
      "            Gradient evaluations: 31\n"
     ]
    }
   ],
   "source": [
    "result = optimize.fmin_slsqp(cost_m, np.array(m_init), ieqcons=[constraint_m, ])"
   ]
  },
  {
   "cell_type": "code",
   "execution_count": 42,
   "metadata": {
    "collapsed": false
   },
   "outputs": [
    {
     "name": "stdout",
     "output_type": "stream",
     "text": [
      "Iteration limit exceeded    (Exit mode 9)\n",
      "            Current function value: 0.000447111732841\n",
      "            Iterations: 101\n",
      "            Function evaluations: 1795\n",
      "            Gradient evaluations: 101\n"
     ]
    },
    {
     "name": "stderr",
     "output_type": "stream",
     "text": [
      "/Users/soph/anaconda/envs/py27/lib/python2.7/site-packages/ipykernel/__main__.py:13: RuntimeWarning: overflow encountered in double_scalars\n"
     ]
    }
   ],
   "source": [
    "result = optimize.fmin_slsqp(cost_m, result, ieqcons=[constraint_m, ])"
   ]
  },
  {
   "cell_type": "code",
   "execution_count": 52,
   "metadata": {
    "collapsed": false
   },
   "outputs": [
    {
     "data": {
      "text/plain": [
       "31.0"
      ]
     },
     "execution_count": 52,
     "metadata": {},
     "output_type": "execute_result"
    }
   ],
   "source": [
    "np.sum(np.round(result))"
   ]
  },
  {
   "cell_type": "code",
   "execution_count": 55,
   "metadata": {
    "collapsed": false
   },
   "outputs": [
    {
     "data": {
      "text/plain": [
       "array([ 9.,  4.,  7.,  3.,  1.,  0.,  0.,  7.])"
      ]
     },
     "execution_count": 55,
     "metadata": {},
     "output_type": "execute_result"
    }
   ],
   "source": [
    "np.round(result)"
   ]
  },
  {
   "cell_type": "code",
   "execution_count": 8,
   "metadata": {
    "collapsed": false
   },
   "outputs": [],
   "source": [
    "cons = {'type':'ineq','fun': constraint_m}\n",
    "minimizer_kwargs = {\"method\":\"COBYLA\",\"constraints\":cons}\n",
    "\n",
    "ret = optimize.basinhopping(cost_m,m_init,minimizer_kwargs=minimizer_kwargs)"
   ]
  },
  {
   "cell_type": "code",
   "execution_count": 9,
   "metadata": {
    "collapsed": false
   },
   "outputs": [
    {
     "data": {
      "text/plain": [
       "                        fun: 5.9112409655111076e-07\n",
       " lowest_optimization_result:      fun: 5.9112409655111076e-07\n",
       "   maxcv: 0.00010429431350189589\n",
       " message: 'Optimization terminated successfully.'\n",
       "    nfev: 169\n",
       "  status: 1\n",
       " success: True\n",
       "       x: array([ -1.16282758e-05,   1.56785090e+01,   8.17353077e+00,\n",
       "         4.25101945e+00,   2.20034573e+00,   1.12216689e+00,\n",
       "         5.74465121e-01,  -5.56988610e-05])\n",
       "                    message: ['requested number of basinhopping iterations completed successfully']\n",
       "      minimization_failures: 33\n",
       "                       nfev: 18921\n",
       "                        nit: 100\n",
       "                          x: array([ -1.16282758e-05,   1.56785090e+01,   8.17353077e+00,\n",
       "         4.25101945e+00,   2.20034573e+00,   1.12216689e+00,\n",
       "         5.74465121e-01,  -5.56988610e-05])"
      ]
     },
     "execution_count": 9,
     "metadata": {},
     "output_type": "execute_result"
    }
   ],
   "source": [
    "ret"
   ]
  },
  {
   "cell_type": "code",
   "execution_count": 3,
   "metadata": {
    "collapsed": false
   },
   "outputs": [
    {
     "name": "stdout",
     "output_type": "stream",
     "text": [
      "[[], [1], [1, 2], [1, 2, 3], [1, 2, 3, 4]]\n"
     ]
    }
   ],
   "source": [
    "m=[1,1,1,1,1,1]\n",
    "\n",
    "print ([[j for j in range(1,i)] for i in range(1,len(m))])"
   ]
  },
  {
   "cell_type": "code",
   "execution_count": 10,
   "metadata": {
    "collapsed": false
   },
   "outputs": [
    {
     "data": {
      "text/plain": [
       "array([ -0.,  16.,   9.,   5.,   3.,   2.,   1.,  -0.])"
      ]
     },
     "execution_count": 10,
     "metadata": {},
     "output_type": "execute_result"
    }
   ],
   "source": [
    "np.ceil(ret.x)"
   ]
  },
  {
   "cell_type": "code",
   "execution_count": null,
   "metadata": {
    "collapsed": true
   },
   "outputs": [],
   "source": []
  }
 ],
 "metadata": {
  "anaconda-cloud": {},
  "kernelspec": {
   "display_name": "Python [conda env:py27]",
   "language": "python",
   "name": "conda-env-py27-py"
  },
  "language_info": {
   "codemirror_mode": {
    "name": "ipython",
    "version": 2
   },
   "file_extension": ".py",
   "mimetype": "text/x-python",
   "name": "python",
   "nbconvert_exporter": "python",
   "pygments_lexer": "ipython2",
   "version": "2.7.12"
  }
 },
 "nbformat": 4,
 "nbformat_minor": 0
}
